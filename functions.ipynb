{
  "nbformat": 4,
  "nbformat_minor": 0,
  "metadata": {
    "colab": {
      "provenance": []
    },
    "kernelspec": {
      "name": "python3",
      "display_name": "Python 3"
    },
    "language_info": {
      "name": "python"
    }
  },
  "cells": [
    {
      "cell_type": "markdown",
      "source": [
        "# **Python Theory Questions and Answers**"
      ],
      "metadata": {
        "id": "2zBY9EmUhhJH"
      }
    },
    {
      "cell_type": "markdown",
      "source": [
        "**1. What is the difference between a function and a method in Python?**\n",
        "\n",
        "- Function: A block of code defined using def, not tied to objects.\n",
        "\n",
        "- Method: A function that is associated with an object (called using object.method()).\n",
        "\n",
        "✅ Example:"
      ],
      "metadata": {
        "id": "xH_C57AcjaGH"
      }
    },
    {
      "cell_type": "code",
      "source": [
        "# Function\n",
        "def add(a, b):\n",
        "    return a + b\n",
        "\n",
        "print(add(2, 3))   # 5\n",
        "\n",
        "# Method (str.upper is a method of string object)\n",
        "text = \"hello\"\n",
        "print(text.upper())  # HELLO\n"
      ],
      "metadata": {
        "colab": {
          "base_uri": "https://localhost:8080/"
        },
        "id": "h_gVxCCPjuLK",
        "outputId": "3086ca2e-43cd-4a13-a95e-0652c5840334"
      },
      "execution_count": 4,
      "outputs": [
        {
          "output_type": "stream",
          "name": "stdout",
          "text": [
            "5\n",
            "HELLO\n"
          ]
        }
      ]
    },
    {
      "cell_type": "markdown",
      "source": [
        "**2. Explain the concept of function arguments and parameters in Python.**\n",
        "\n",
        "- Parameters → Variables defined in function definition.\n",
        "\n",
        "- Arguments → Actual values passed to function during call.\n",
        "\n",
        "✅ Example:"
      ],
      "metadata": {
        "id": "qsP5mnVQjzm0"
      }
    },
    {
      "cell_type": "code",
      "source": [
        "def greet(jay):  # 'jay' is a parameter\n",
        "    print(\"Hello\", jay)\n",
        "\n",
        "greet(\"Jay\")  # \"Jay\" is an argument\n"
      ],
      "metadata": {
        "colab": {
          "base_uri": "https://localhost:8080/"
        },
        "id": "L_LCDnLNkEN5",
        "outputId": "01f2dd6f-9cc7-427e-9e87-fbc8e6744f37"
      },
      "execution_count": 3,
      "outputs": [
        {
          "output_type": "stream",
          "name": "stdout",
          "text": [
            "Hello Jay\n"
          ]
        }
      ]
    },
    {
      "cell_type": "markdown",
      "source": [
        "**3. What are the different ways to define and call a function in Python?**\n",
        "\n",
        "1.Normal function"
      ],
      "metadata": {
        "id": "IFWKVbXQkwD0"
      }
    },
    {
      "cell_type": "code",
      "source": [
        "def square(x):\n",
        "    return x*x\n",
        "print(square(4))\n"
      ],
      "metadata": {
        "colab": {
          "base_uri": "https://localhost:8080/"
        },
        "id": "v1pqb7_Qk_nO",
        "outputId": "3d546187-4247-496e-85fe-cee5a31beee2"
      },
      "execution_count": 8,
      "outputs": [
        {
          "output_type": "stream",
          "name": "stdout",
          "text": [
            "16\n"
          ]
        }
      ]
    },
    {
      "cell_type": "markdown",
      "source": [
        "2.Lambda function"
      ],
      "metadata": {
        "id": "KSnDJj1flBgf"
      }
    },
    {
      "cell_type": "code",
      "source": [
        "square = lambda x: x*x\n",
        "print(square(4))\n"
      ],
      "metadata": {
        "colab": {
          "base_uri": "https://localhost:8080/"
        },
        "id": "6qejChYClQbN",
        "outputId": "f00c11a2-26b9-4250-a8a4-2527c9d45fb3"
      },
      "execution_count": 7,
      "outputs": [
        {
          "output_type": "stream",
          "name": "stdout",
          "text": [
            "16\n"
          ]
        }
      ]
    },
    {
      "cell_type": "markdown",
      "source": [
        "3.Built-in function"
      ],
      "metadata": {
        "id": "5qw3bcbOlzwV"
      }
    },
    {
      "cell_type": "code",
      "source": [
        "print(len(\"hello\"))\n"
      ],
      "metadata": {
        "colab": {
          "base_uri": "https://localhost:8080/"
        },
        "id": "EH9w8HDclowA",
        "outputId": "fdcd4de2-0f37-459b-f17d-563b53ccf4e7"
      },
      "execution_count": 9,
      "outputs": [
        {
          "output_type": "stream",
          "name": "stdout",
          "text": [
            "5\n"
          ]
        }
      ]
    },
    {
      "cell_type": "markdown",
      "source": [
        "**4. What is the purpose of the `return` statement in a Python function?**\n",
        "\n",
        "The return statement sends a result from the function back to the caller.\n",
        "\n",
        "✅ Example:"
      ],
      "metadata": {
        "id": "7o_Fgp-ilkzK"
      }
    },
    {
      "cell_type": "code",
      "source": [
        "def multiply(a, b):\n",
        "    return a * b\n",
        "\n",
        "result = multiply(3, 5)\n",
        "print(result)  # 15\n"
      ],
      "metadata": {
        "colab": {
          "base_uri": "https://localhost:8080/"
        },
        "id": "DKypPwVPl8nD",
        "outputId": "e825052a-8df3-4855-f3e2-68f742580562"
      },
      "execution_count": 10,
      "outputs": [
        {
          "output_type": "stream",
          "name": "stdout",
          "text": [
            "15\n"
          ]
        }
      ]
    },
    {
      "cell_type": "markdown",
      "source": [
        "**5. What are iterators in Python and how do they differ from iterables?**\n",
        "\n",
        "- Iterable: Objects that can be looped (like list, tuple, string).\n",
        "\n",
        "- Iterator: An object that produces items one at a time using __next__().\n",
        "\n",
        "✅ Example:"
      ],
      "metadata": {
        "id": "QdQFQrfbmBma"
      }
    },
    {
      "cell_type": "code",
      "source": [
        "nums = [1, 2, 3]      # iterable\n",
        "it = iter(nums)       # iterator\n",
        "print(next(it))  # 1\n",
        "print(next(it))  # 2\n"
      ],
      "metadata": {
        "colab": {
          "base_uri": "https://localhost:8080/"
        },
        "id": "OeMmkiFdm8Ee",
        "outputId": "ab93c52b-1f0b-4636-c22d-909eefa48f59"
      },
      "execution_count": 11,
      "outputs": [
        {
          "output_type": "stream",
          "name": "stdout",
          "text": [
            "1\n",
            "2\n"
          ]
        }
      ]
    },
    {
      "cell_type": "markdown",
      "source": [
        "**6. Explain the concept of generators in Python and how they are defined.**\n",
        "\n",
        "- Special type of iterator created using yield.\n",
        "\n",
        "- Used for lazy evaluation (values generated one at a time).\n",
        "\n",
        "✅ Example:"
      ],
      "metadata": {
        "id": "PeKIfRhDnNc-"
      }
    },
    {
      "cell_type": "code",
      "source": [
        "def count_up_to(n):\n",
        "    for i in range(1, n+1):\n",
        "        yield i\n",
        "\n",
        "for num in count_up_to(5):\n",
        "    print(num)\n"
      ],
      "metadata": {
        "colab": {
          "base_uri": "https://localhost:8080/"
        },
        "id": "m8of4YWDnfO4",
        "outputId": "52749b5e-5436-49b1-a18b-951e6055c473"
      },
      "execution_count": 12,
      "outputs": [
        {
          "output_type": "stream",
          "name": "stdout",
          "text": [
            "1\n",
            "2\n",
            "3\n",
            "4\n",
            "5\n"
          ]
        }
      ]
    },
    {
      "cell_type": "markdown",
      "source": [
        "**7. What are the advantages of using generators over regular functions?**\n",
        "\n",
        "- Memory efficient (does not store all values at once).\n",
        "\n",
        "- Lazy evaluation (generates values when needed).\n",
        "\n",
        "✅ Example:"
      ],
      "metadata": {
        "id": "62AgEp-CnkqV"
      }
    },
    {
      "cell_type": "code",
      "source": [
        "def squares(n):\n",
        "    for i in range(n):\n",
        "        yield i*i\n",
        "\n",
        "sq = squares(5)\n",
        "print(next(sq))  # 0\n",
        "print(next(sq))  # 1\n"
      ],
      "metadata": {
        "colab": {
          "base_uri": "https://localhost:8080/"
        },
        "id": "hC0fUwgOnxCU",
        "outputId": "ba36fdae-7360-49ba-91c3-873d0dc84355"
      },
      "execution_count": 13,
      "outputs": [
        {
          "output_type": "stream",
          "name": "stdout",
          "text": [
            "0\n",
            "1\n"
          ]
        }
      ]
    },
    {
      "cell_type": "markdown",
      "source": [
        "**8. What is a lambda function in Python and when is it typically used?**\n",
        "\n",
        "- Anonymous, one-line function.\n",
        "\n",
        "- Typically used for small operations inside functions like map, filter.\n",
        "\n",
        "✅ Example:"
      ],
      "metadata": {
        "id": "85AWUxWUn8oc"
      }
    },
    {
      "cell_type": "code",
      "source": [
        "square = lambda x: x**2\n",
        "print(square(6))  # 36\n"
      ],
      "metadata": {
        "colab": {
          "base_uri": "https://localhost:8080/"
        },
        "id": "C7WUi70moGnG",
        "outputId": "bf40270a-5479-4c37-efbf-2e6e0157c5bb"
      },
      "execution_count": 14,
      "outputs": [
        {
          "output_type": "stream",
          "name": "stdout",
          "text": [
            "36\n"
          ]
        }
      ]
    },
    {
      "cell_type": "markdown",
      "source": [
        "**9. Explain the purpose and usage of the `map()` function in Python.**\n",
        "\n",
        "- Applies a function to each item in an iterable.\n",
        "\n",
        "✅ Example:"
      ],
      "metadata": {
        "id": "7Ugs5CI-oSFi"
      }
    },
    {
      "cell_type": "code",
      "source": [
        "nums = [1, 2, 3, 4]\n",
        "result = list(map(lambda x: x*2, nums))\n",
        "print(result)  # [2, 4, 6, 8]\n"
      ],
      "metadata": {
        "colab": {
          "base_uri": "https://localhost:8080/"
        },
        "id": "8CMJPKkroWJ8",
        "outputId": "2cc8c86e-3314-4bcf-be2a-9b83ee9d57fe"
      },
      "execution_count": 15,
      "outputs": [
        {
          "output_type": "stream",
          "name": "stdout",
          "text": [
            "[2, 4, 6, 8]\n"
          ]
        }
      ]
    },
    {
      "cell_type": "markdown",
      "source": [
        "**10. What is the difference between `map()`, `reduce()`, and `filter()` functions in Python?**\n",
        "\n",
        "- map(func, iterable): Applies function to each element.\n",
        "\n",
        "- filter(func, iterable): Keeps only elements where function returns True.\n",
        "\n",
        "- reduce(func, iterable): Applies function cumulatively (reducing to single value).\n",
        "\n",
        "✅ Example:"
      ],
      "metadata": {
        "id": "nf2nzRdToo_S"
      }
    },
    {
      "cell_type": "code",
      "source": [
        "from functools import reduce\n",
        "\n",
        "nums = [1, 2, 3, 4]\n",
        "\n",
        "print(list(map(lambda x: x*2, nums)))     # [2,4,6,8]\n",
        "print(list(filter(lambda x: x%2==0, nums))) # [2,4]\n",
        "print(reduce(lambda a,b: a+b, nums))       # 10\n"
      ],
      "metadata": {
        "colab": {
          "base_uri": "https://localhost:8080/"
        },
        "id": "Jh8uSul-o1aW",
        "outputId": "2fc08119-ebe4-41e4-9624-b19ffc9f0ead"
      },
      "execution_count": 16,
      "outputs": [
        {
          "output_type": "stream",
          "name": "stdout",
          "text": [
            "[2, 4, 6, 8]\n",
            "[2, 4]\n",
            "10\n"
          ]
        }
      ]
    },
    {
      "cell_type": "markdown",
      "source": [
        "**11. Using pen & Paper write the internal mechanism for sum operation using  reduce function on this given\n",
        "list:[47,11,42,13];**"
      ],
      "metadata": {
        "id": "xBCYHW5jrLVo"
      }
    },
    {
      "cell_type": "markdown",
      "source": [
        "![answer no.11.jpg]()"
      ],
      "metadata": {
        "id": "bl_3dIyrrcAg"
      }
    },
    {
      "cell_type": "markdown",
      "source": [
        "# **# Practical Questions:**"
      ],
      "metadata": {
        "id": "utzt_f5UuqH3"
      }
    },
    {
      "cell_type": "markdown",
      "source": [
        "**1. Write a Python function that takes a list of numbers as input and returns the sum of all even numbers in\n",
        "the list.**"
      ],
      "metadata": {
        "id": "FWdheI3xu6EQ"
      }
    },
    {
      "cell_type": "markdown",
      "source": [
        "*We just need to check each number — if it’s even, add it up.*"
      ],
      "metadata": {
        "id": "rbjFjs3A1cwH"
      }
    },
    {
      "cell_type": "code",
      "source": [
        "def sum_of_evens(numbers):\n",
        "    return sum(num for num in numbers if num % 2 == 0)\n",
        "\n",
        "print(sum_of_evens([1, 2, 3, 4, 5, 6]))\n",
        "\n"
      ],
      "metadata": {
        "colab": {
          "base_uri": "https://localhost:8080/"
        },
        "id": "6Ic5QyOovBuK",
        "outputId": "b819ea85-bfbe-4b04-89c5-619fbffd4e93"
      },
      "execution_count": 18,
      "outputs": [
        {
          "output_type": "stream",
          "name": "stdout",
          "text": [
            "12\n"
          ]
        }
      ]
    },
    {
      "cell_type": "markdown",
      "source": [
        "**2. Create a Python function that accepts a string and returns the reverse of that string**"
      ],
      "metadata": {
        "id": "6qkA3h2x11hw"
      }
    },
    {
      "cell_type": "markdown",
      "source": [
        "*In Python, [::-1] is like flipping the string.*"
      ],
      "metadata": {
        "id": "nLzrtIr719aI"
      }
    },
    {
      "cell_type": "code",
      "source": [
        "def reverse_string(s):\n",
        "    return s[::-1]\n",
        "\n",
        "print(reverse_string(\"Python\"))\n"
      ],
      "metadata": {
        "colab": {
          "base_uri": "https://localhost:8080/"
        },
        "id": "nyO8bYls18j_",
        "outputId": "ebfdc99f-7889-41a9-c856-fde18ca577f3"
      },
      "execution_count": 19,
      "outputs": [
        {
          "output_type": "stream",
          "name": "stdout",
          "text": [
            "nohtyP\n"
          ]
        }
      ]
    },
    {
      "cell_type": "markdown",
      "source": [
        "**3. Implement a Python function that takes a list of integers and returns a new list containing the squares of\n",
        "each number.**"
      ],
      "metadata": {
        "id": "DRG_yBrT2Sg4"
      }
    },
    {
      "cell_type": "markdown",
      "source": [
        "*Just take each number and multiply it by itself.*"
      ],
      "metadata": {
        "id": "sZMho-h_2gJq"
      }
    },
    {
      "cell_type": "code",
      "source": [
        "def square_list(numbers):\n",
        "    return [num ** 2 for num in numbers]\n",
        "\n",
        "print(square_list([1, 2, 3, 4]))\n",
        "\n"
      ],
      "metadata": {
        "colab": {
          "base_uri": "https://localhost:8080/"
        },
        "id": "r7ETs0hE2oUc",
        "outputId": "bad6f754-d549-4e88-988c-96487869458d"
      },
      "execution_count": 20,
      "outputs": [
        {
          "output_type": "stream",
          "name": "stdout",
          "text": [
            "[1, 4, 9, 16]\n"
          ]
        }
      ]
    },
    {
      "cell_type": "markdown",
      "source": [
        "**4. Write a Python function that checks if a given number is prime or not from 1 to 200.**"
      ],
      "metadata": {
        "id": "_a4wiWNM2v72"
      }
    },
    {
      "cell_type": "markdown",
      "source": [
        "*Prime means a number that’s only divisible by 1 and itself.*"
      ],
      "metadata": {
        "id": "Nh4FRPs725rm"
      }
    },
    {
      "cell_type": "code",
      "source": [
        "def is_prime(n):\n",
        "    if n < 2:\n",
        "        return False\n",
        "    for i in range(2, int(n ** 0.5) + 1):\n",
        "        if n % i == 0:\n",
        "            return False\n",
        "    return True\n",
        "\n",
        "print(is_prime(7))\n",
        "print(is_prime(200))\n",
        "\n"
      ],
      "metadata": {
        "colab": {
          "base_uri": "https://localhost:8080/"
        },
        "id": "sLnS4sO43Amn",
        "outputId": "6257ddb3-16d8-4961-b468-39f2f3d7b5bf"
      },
      "execution_count": 23,
      "outputs": [
        {
          "output_type": "stream",
          "name": "stdout",
          "text": [
            "True\n",
            "False\n"
          ]
        }
      ]
    },
    {
      "cell_type": "markdown",
      "source": [
        "**5. Create an iterator class in Python that generates the Fibonacci sequence up to a specified number of\n",
        "terms.**"
      ],
      "metadata": {
        "id": "igzPqf-L3Y3I"
      }
    },
    {
      "cell_type": "markdown",
      "source": [
        "*Fibonacci is like 0, 1, 1, 2, 3, 5, 8… each number is the sum of the previous two.\n",
        "We make a class that generates these step by step.*"
      ],
      "metadata": {
        "id": "Ye-mr1f93dzY"
      }
    },
    {
      "cell_type": "code",
      "source": [
        "class Fibonacci:\n",
        "    def __init__(self, n_terms):\n",
        "        self.n_terms = n_terms\n",
        "        self.a, self.b = 0, 1\n",
        "        self.count = 0\n",
        "\n",
        "    def __iter__(self):\n",
        "        return self\n",
        "\n",
        "    def __next__(self):\n",
        "        if self.count < self.n_terms:\n",
        "            value = self.a\n",
        "            self.a, self.b = self.b, self.a + self.b\n",
        "            self.count += 1\n",
        "            return value\n",
        "        else:\n",
        "            raise StopIteration\n",
        "\n",
        "for num in Fibonacci(7):\n",
        "    print(num, end=\" \")\n",
        "\n"
      ],
      "metadata": {
        "colab": {
          "base_uri": "https://localhost:8080/"
        },
        "id": "pWEj6bU_3l1F",
        "outputId": "0bde8ed4-f69f-452c-d21e-2e9d4068b11b"
      },
      "execution_count": 24,
      "outputs": [
        {
          "output_type": "stream",
          "name": "stdout",
          "text": [
            "0 1 1 2 3 5 8 "
          ]
        }
      ]
    },
    {
      "cell_type": "markdown",
      "source": [
        "**6. Write a generator function in Python that yields the powers of 2 up to a given exponent.**"
      ],
      "metadata": {
        "id": "S3EuqSj03xvj"
      }
    },
    {
      "cell_type": "markdown",
      "source": [
        "*Instead of storing everything, we yield one by one: 1, 2, 4, 8…*"
      ],
      "metadata": {
        "id": "HtmLRlTH35iT"
      }
    },
    {
      "cell_type": "code",
      "source": [
        "def powers_of_two(n):\n",
        "    for i in range(n + 1):\n",
        "        yield 2 ** i\n",
        "\n",
        "print(list(powers_of_two(5)))\n",
        "\n"
      ],
      "metadata": {
        "colab": {
          "base_uri": "https://localhost:8080/"
        },
        "id": "qgAZqXaF4BkS",
        "outputId": "d4d6d691-e290-4b03-bf89-4d68e34ae263"
      },
      "execution_count": 25,
      "outputs": [
        {
          "output_type": "stream",
          "name": "stdout",
          "text": [
            "[1, 2, 4, 8, 16, 32]\n"
          ]
        }
      ]
    },
    {
      "cell_type": "markdown",
      "source": [
        "**7. Implement a generator function that reads a file line by line and yields each line as a string.**"
      ],
      "metadata": {
        "id": "znkqVIos4Nvm"
      }
    },
    {
      "cell_type": "markdown",
      "source": [
        "*This way, we don’t load the whole file at once, just one line at a time.*"
      ],
      "metadata": {
        "id": "PAsnKWO64Rr1"
      }
    },
    {
      "cell_type": "code",
      "source": [
        "def read_file(filename):\n",
        "    with open(filename, \"r\") as file:\n",
        "        for line in file:\n",
        "            yield line.strip()\n",
        "\n",
        "# Example (needs a real file to test):\n",
        "# for line in read_file(\"sample.txt\"):\n",
        "#     print(line)\n"
      ],
      "metadata": {
        "id": "SgXuh_oz5JjN"
      },
      "execution_count": null,
      "outputs": []
    },
    {
      "cell_type": "markdown",
      "source": [
        "**8. Use a lambda function in Python to sort a list of tuples based on the second element of each tuple.**"
      ],
      "metadata": {
        "id": "4l0zf-N95Gz0"
      }
    },
    {
      "cell_type": "code",
      "source": [
        "data = [(1, 5), (2, 3), (4, 1), (3, 2)]\n",
        "sorted_data = sorted(data, key=lambda x: x[1])\n",
        "print(sorted_data)\n",
        "\n"
      ],
      "metadata": {
        "colab": {
          "base_uri": "https://localhost:8080/"
        },
        "id": "T8Jnjtp45S1T",
        "outputId": "2768a2e0-4547-4d00-dbb1-76ee9fe94453"
      },
      "execution_count": 34,
      "outputs": [
        {
          "output_type": "stream",
          "name": "stdout",
          "text": [
            "[(4, 1), (3, 2), (2, 3), (1, 5)]\n"
          ]
        }
      ]
    },
    {
      "cell_type": "markdown",
      "source": [
        "**9. Write a Python program that uses `map()` to convert a list of temperatures from Celsius to Fahrenheit.**"
      ],
      "metadata": {
        "id": "X1HEYSq95fSu"
      }
    },
    {
      "cell_type": "code",
      "source": [
        "celsius = [0, 20, 37, 100]\n",
        "fahrenheit = list(map(lambda c: (c * 9/5) + 32, celsius))\n",
        "print(fahrenheit)\n",
        "\n"
      ],
      "metadata": {
        "colab": {
          "base_uri": "https://localhost:8080/"
        },
        "id": "PgdjwYbs5jTe",
        "outputId": "42af2bf6-3d4a-46f5-95ff-86fd50285508"
      },
      "execution_count": 35,
      "outputs": [
        {
          "output_type": "stream",
          "name": "stdout",
          "text": [
            "[32.0, 68.0, 98.6, 212.0]\n"
          ]
        }
      ]
    },
    {
      "cell_type": "markdown",
      "source": [
        "**10. Create a Python program that uses `filter()` to remove all the vowels from a given string.**"
      ],
      "metadata": {
        "id": "PsjvH8Tw5uKR"
      }
    },
    {
      "cell_type": "code",
      "source": [
        "def remove_vowels(s):\n",
        "    return \"\".join(filter(lambda ch: ch.lower() not in \"aeiou\", s))\n",
        "\n",
        "print(remove_vowels(\"Hello World\"))\n",
        "\n"
      ],
      "metadata": {
        "colab": {
          "base_uri": "https://localhost:8080/"
        },
        "id": "xYDHNB1F5xLf",
        "outputId": "6c7c78c1-7ef6-4418-9232-b76875a208ff"
      },
      "execution_count": 36,
      "outputs": [
        {
          "output_type": "stream",
          "name": "stdout",
          "text": [
            "Hll Wrld\n"
          ]
        }
      ]
    },
    {
      "cell_type": "markdown",
      "source": [
        "**11) Imagine an accounting routine used in a book shop. It works on a list with sublists, which look like this:**"
      ],
      "metadata": {
        "id": "UohyxxrG7EwC"
      }
    },
    {
      "cell_type": "code",
      "source": [
        "# Example book data based on the table\n",
        "books = [\n",
        "    [34587, \"Learning Python, Mark Lutz\", 4, 40.95],\n",
        "    [98762, \"Programming Python, Mark Lutz\", 5, 56.80],\n",
        "    [77226, \"Head First Python, Paul Barey\", 3, 32.95],\n",
        "    [88112, \"Einführung in Python3, Bernd Klein\", 3, 24.99]\n",
        "]\n",
        "\n",
        "result = list(\n",
        "    map(\n",
        "        lambda x: (x[0], x[2] * x[3] + 10 if x[2] * x[3] < 100 else x[2] * x[3]),\n",
        "        books\n",
        "    )\n",
        ")\n",
        "\n",
        "print(result)"
      ],
      "metadata": {
        "colab": {
          "base_uri": "https://localhost:8080/"
        },
        "id": "WOVCWF_q7PXY",
        "outputId": "6621ef3a-3ce1-446f-9fab-413873634577"
      },
      "execution_count": 38,
      "outputs": [
        {
          "output_type": "stream",
          "name": "stdout",
          "text": [
            "[(34587, 163.8), (98762, 284.0), (77226, 108.85000000000001), (88112, 84.97)]\n"
          ]
        }
      ]
    }
  ]
}